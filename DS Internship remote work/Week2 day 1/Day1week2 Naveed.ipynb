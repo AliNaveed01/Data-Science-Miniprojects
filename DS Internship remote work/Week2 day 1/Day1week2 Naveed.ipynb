{
  "cells": [
    {
      "cell_type": "code",
      "execution_count": 8,
      "metadata": {
        "id": "Ve6Vr4rIuyjQ"
      },
      "outputs": [],
      "source": [
        "import pandas as pd\n",
        "import numpy as np\n",
        "import matplotlib.pyplot as plt\n",
        "import seaborn as sns\n",
        "import scipy.stats as stats\n",
        "from scipy.stats import skew, kurtosis"
      ]
    },
    {
      "attachments": {},
      "cell_type": "markdown",
      "metadata": {},
      "source": [
        "Day 1:Lecture: Fundamentals of statistics for data science\n",
        "\n",
        "Here is a task for Task: Perform basic statistical calculations in Python using NumPy and SciPy, with a dataset:Task:\n",
        "\n",
        "Import the NumPy and SciPy libraries.\n",
        "\n",
        "Load the dataset heights_and_weights.csv.\n",
        "\n",
        "Calculate the mean, median, and standard deviation of the heights and weights in the dataset using NumPy.\n",
        "\n",
        "Calculate the skewness and kurtosis of the heights and weights in the dataset using SciPy.\n",
        "\n",
        "Print the results.\n",
        "\n",
        "Interview Questions and Answers:\n",
        "\n",
        "Question: Why is it important to perform basic statistical calculations in data science?Answer: Basic statistical calculations help us understand the central tendencies, variations, and distributions of data. They provide valuable insights for making data-driven decisions, identifying patterns, and drawing meaningful conclusions from the data.\n",
        "\n",
        "Question: Which libraries can be used to perform basic statistical calculations in Python?Answer: Libraries such as NumPy and SciPy can be used to perform basic statistical calculations in Python. NumPy provides functions for numerical operations, while SciPy offers a wide range of statistical functions and algorithms.\n",
        "\n",
        "Question: What does the mean represent in statistics?Answer: The mean is a measure of central tendency that represents the average value of a dataset. It is calculated by summing all the values and dividing by the number of observations.\n",
        "\n",
        "Question: How does the standard deviation measure the spread of data?Answer: The standard deviation quantifies the amount of variation or dispersion in a dataset. It measures how far individual data points deviate from the mean. A higher standard deviation indicates greater variability in the data.\n",
        "\n",
        "Question: What do skewness and kurtosis measure in statistics?Answer: Skewness measures the asymmetry of a distribution, indicating whether the data is skewed to the left (negative skew) or to the right (positive skew). Kurtosis measures the shape of the distribution and determines whether the data has heavy tails or is more peaked compared to a normal distribution.\n",
        "\n",
        "Basic Definitions and Terms:\n",
        "\n",
        "Statistics: The branch of mathematics that deals with the collection, analysis, interpretation, presentation, and organization of data. It involves techniques for summarizing data, drawing inferences, and making predictions.\n",
        "\n",
        "Mean: Also known as the average, the mean is a measure of central tendency calculated by summing all values in a dataset and dividing by the number of observations.\n",
        "\n",
        "Median: The median is a measure of central tendency that represents the middle value in an ordered dataset. It separates the lower and upper halves of the data.\n",
        "\n",
        "Standard Deviation: The standard deviation is a measure of the dispersion or spread of data around the mean. It quantifies the average distance between each data point and the mean.\n",
        "\n",
        "Skewness: Skewness measures the asymmetry of a distribution. Positive skewness indicates a longer tail on the right side of the distribution, while negative skewness indicates a longer tail on the left side.\n",
        "\n",
        "Multiple Choice Questions:\n",
        "\n",
        "What is the purpose of performing basic statistical calculations in data science?a) To make data visually appealingb) To summarize and understand datac) To encrypt sensitive informationd) To perform machine learning algorithms\n",
        "\n",
        "Which libraries can be used for basic statistical calculations in Python?a) NumPy and Pandasb) SciPy and Matplotlibc) Scikit-learn and TensorFlowd) Django and Flask\n",
        "\n",
        "What does the standard deviation measure?a) Central tendencyb) Variability or spread of datac) Skewness of datad) Shape of the distribution\n",
        "\n",
        "Skewness measures:a) Asymmetry of a distributionb) Variability of datac) Shape of the distributiond) Central tendency\n",
        "\n",
        "The mean is calculated by:a) Summing all values and dividing by the number of observationsb) Taking the middle value in an ordered datasetc) Measuring the spread of datad) Calculating the sum of squares of differences from the mean\n",
        "\n",
        "Article:[https://medium.com/swlh/the-8-basic-statistics-concepts-for-data-science-7b865fca92b9 ]\n",
        "\n",
        "QUIZ[https://forms.gle/4yTLHEk9DnqkokLo7 ]"
      ]
    },
    {
      "cell_type": "code",
      "execution_count": 3,
      "metadata": {
        "colab": {
          "base_uri": "https://localhost:8080/"
        },
        "id": "WZvmOk_-vZmq",
        "outputId": "29f8bbff-93df-4667-91c1-75162b6b6445"
      },
      "outputs": [
        {
          "name": "stdout",
          "output_type": "stream",
          "text": [
            "      Gender     Height      Weight\n",
            "0       Male  73.847017  241.893563\n",
            "1       Male  68.781904  162.310473\n",
            "2       Male  74.110105  212.740856\n",
            "3       Male  71.730978  220.042470\n",
            "4       Male  69.881796  206.349801\n",
            "...      ...        ...         ...\n",
            "9995  Female  66.172652  136.777454\n",
            "9996  Female  67.067155  170.867906\n",
            "9997  Female  63.867992  128.475319\n",
            "9998  Female  69.034243  163.852461\n",
            "9999  Female  61.944246  113.649103\n",
            "\n",
            "[10000 rows x 3 columns]\n"
          ]
        }
      ],
      "source": [
        "df=pd.read_csv('weight-height.csv') \n",
        "print(df)"
      ]
    },
    {
      "attachments": {},
      "cell_type": "markdown",
      "metadata": {},
      "source": [
        "## Calculating Mean and STDEV"
      ]
    },
    {
      "cell_type": "code",
      "execution_count": 7,
      "metadata": {
        "colab": {
          "base_uri": "https://localhost:8080/"
        },
        "id": "tZgALf3iwCmT",
        "outputId": "09860558-451e-4e4f-d0a9-8a441a609a6d"
      },
      "outputs": [
        {
          "name": "stdout",
          "output_type": "stream",
          "text": [
            "Height:\n",
            "Mean: 66.36755975482124\n",
            "Median: 66.31807008178464\n",
            "Standard Deviation: 3.84733573955754\n",
            "\n",
            "Weight:\n",
            "Mean: 161.44035683283076\n",
            "Median: 161.21292769948298\n",
            "Standard Deviation: 32.106833544431716\n"
          ]
        }
      ],
      "source": [
        "heights_arr = df['Height'].to_numpy()\n",
        "weights_arr = df['Weight'].to_numpy()\n",
        "\n",
        "\n",
        "heights_mean = np.mean(heights_arr)\n",
        "weights_mean = np.mean(weights_arr)\n",
        "\n",
        "\n",
        "heights_median = np.median(heights_arr)\n",
        "weights_median = np.median(weights_arr)\n",
        "\n",
        "\n",
        "heights_std = np.std(heights_arr)\n",
        "weights_std = np.std(weights_arr)  \n",
        "\n",
        "print(\"Height:\")\n",
        "print(\"Mean:\", heights_mean)\n",
        "print(\"Median:\", heights_median)\n",
        "print(\"Standard Deviation:\", heights_std)\n",
        "\n",
        "print(\"\\nWeight:\")\n",
        "print(\"Mean:\", weights_mean)\n",
        "print(\"Median:\", weights_median)\n",
        "print(\"Standard Deviation:\", weights_std)\n"
      ]
    },
    {
      "attachments": {},
      "cell_type": "markdown",
      "metadata": {},
      "source": [
        "## Calculating skewness and kurtosis"
      ]
    },
    {
      "cell_type": "code",
      "execution_count": 9,
      "metadata": {
        "colab": {
          "base_uri": "https://localhost:8080/"
        },
        "id": "eB3And6tzqlM",
        "outputId": "fe346837-ca25-4d29-aaab-80526340c3a8"
      },
      "outputs": [
        {
          "name": "stdout",
          "output_type": "stream",
          "text": [
            "Height:\n",
            "Skewness: 0.04936168370490536\n",
            "Kurtosis: -0.4744964699248557\n",
            "\n",
            "Weight:\n",
            "Skewness: 0.032949561064277405\n",
            "Kurtosis: -0.794820272056854\n"
          ]
        }
      ],
      "source": [
        "heights_skewness = skew(heights_arr)\n",
        "weights_skewness = skew(weights_arr)\n",
        "\n",
        "heights_kurtosis = kurtosis(heights_arr)\n",
        "weights_kurtosis = kurtosis(weights_arr)\n",
        "\n",
        "#Showing results\n",
        "print(\"Height:\")\n",
        "print(\"Skewness:\", heights_skewness)\n",
        "print(\"Kurtosis:\", heights_kurtosis)\n",
        "\n",
        "print(\"\\nWeight:\")\n",
        "print(\"Skewness:\", weights_skewness)\n",
        "print(\"Kurtosis:\", weights_kurtosis)\n"
      ]
    }
  ],
  "metadata": {
    "colab": {
      "provenance": []
    },
    "kernelspec": {
      "display_name": "Python 3",
      "name": "python3"
    },
    "language_info": {
      "name": "python",
      "version": "3.9.7"
    }
  },
  "nbformat": 4,
  "nbformat_minor": 0
}
